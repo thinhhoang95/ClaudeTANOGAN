{
 "cells": [
  {
   "cell_type": "code",
   "execution_count": null,
   "metadata": {},
   "outputs": [],
   "source": [
    "import numpy as np \n",
    "from matplotlib import pyplot as plt\n",
    "import pandas as pd"
   ]
  },
  {
   "cell_type": "code",
   "execution_count": null,
   "metadata": {},
   "outputs": [],
   "source": [
    "ngsim_df = pd.read_csv('trajectories-0750am-0805am.csv')\n",
    "ngsim_df.head()"
   ]
  },
  {
   "cell_type": "code",
   "execution_count": null,
   "metadata": {},
   "outputs": [],
   "source": [
    "ngsim_vehicle_ids = ngsim_df['Vehicle_ID'].unique()\n",
    "print(f'Number of vehicles in the dataset: {len(ngsim_vehicle_ids)}')"
   ]
  },
  {
   "cell_type": "code",
   "execution_count": null,
   "metadata": {},
   "outputs": [],
   "source": [
    "n_trajectories_to_sample = 200\n",
    "length_to_sample = 150\n",
    "np.random.seed(0)\n",
    "vehicle_ids_to_sample = np.random.choice(ngsim_vehicle_ids, n_trajectories_to_sample, replace=False)\n",
    "print(f'Vehicle IDs to sample: {vehicle_ids_to_sample}')"
   ]
  },
  {
   "cell_type": "code",
   "execution_count": null,
   "metadata": {},
   "outputs": [],
   "source": [
    "from tqdm import tqdm\n",
    "# Extract the trajectories of the sampled vehicles, limiting to 150 timesteps maximum\n",
    "# Create an empty dataframe to store the sampled trajectories\n",
    "sample_df = pd.DataFrame(columns=ngsim_df.columns)\n",
    "for vehicle_id in tqdm(vehicle_ids_to_sample):\n",
    "    vehicle_df = ngsim_df[ngsim_df['Vehicle_ID'] == vehicle_id]\n",
    "    timestep_min = vehicle_df['Global_Time'].min()\n",
    "    timestep_max = vehicle_df['Global_Time'].max()\n",
    "    # If the vehicle trajectory is shorter than the desired length, we skip the vehicle\n",
    "    if timestep_max - timestep_min + 100 < length_to_sample * 100:\n",
    "        print(f'Skipping vehicle {vehicle_id} because it has less than {length_to_sample} timesteps')\n",
    "        continue \n",
    "    vehicle_df = vehicle_df[vehicle_df['Global_Time'] <= timestep_min + (length_to_sample - 1) * 100]\n",
    "    sample_df = pd.concat([sample_df, vehicle_df])\n",
    "\n",
    "print(f'Number of sampled trajectories: {len(sample_df)}')"
   ]
  },
  {
   "cell_type": "code",
   "execution_count": null,
   "metadata": {},
   "outputs": [],
   "source": [
    "sample_df"
   ]
  },
  {
   "cell_type": "code",
   "execution_count": null,
   "metadata": {},
   "outputs": [],
   "source": [
    "def plot_trajectories(df: pd.DataFrame) -> None: \n",
    "    plt.figure(figsize=(3,3))\n",
    "    for vehicle_id in df['Vehicle_ID'].unique():\n",
    "        vehicle_df = df[df['Vehicle_ID'] == vehicle_id]\n",
    "        plt.plot(vehicle_df['Global_Time'] - vehicle_df['Global_Time'].min(), vehicle_df['Local_Y'] - vehicle_df['Local_Y'].min(), label=vehicle_id)\n",
    "    plt.xlabel('Time (ms)')\n",
    "    plt.ylabel('Longitudinal position (m)')\n",
    "\n",
    "plot_trajectories(sample_df)"
   ]
  },
  {
   "cell_type": "code",
   "execution_count": null,
   "metadata": {},
   "outputs": [],
   "source": [
    "# Write the sample_df to a CSV file, keeping only the columns we need\n",
    "sample_df_clean = sample_df[['Vehicle_ID', 'Global_Time', 'Local_X', 'Local_Y']]\n",
    "# Add the velocity column\n",
    "sample_df_clean['Velocity'] = sample_df_clean.groupby('Vehicle_ID')['Local_Y'].diff() / 0.1\n",
    "sample_df_clean = sample_df_clean.dropna() "
   ]
  },
  {
   "cell_type": "code",
   "execution_count": null,
   "metadata": {},
   "outputs": [],
   "source": [
    "sample_df_clean.to_csv('ngsim_sample.csv', index=False)"
   ]
  },
  {
   "cell_type": "code",
   "execution_count": null,
   "metadata": {},
   "outputs": [],
   "source": [
    "sample_df_clean.head()"
   ]
  },
  {
   "cell_type": "code",
   "execution_count": null,
   "metadata": {},
   "outputs": [],
   "source": [
    "# Write the test_df to a CSV file, keeping only the columns we need\n",
    "test_df = pd.DataFrame(columns=ngsim_df.columns)\n",
    "# First Vehicle_ID df\n",
    "traj0 = ngsim_df[ngsim_df['Vehicle_ID'] == ngsim_df['Vehicle_ID'].iloc[0]]\n",
    "# Invert the sign of the Local_Y\n",
    "traj0['Local_Y'] = -traj0['Local_Y']\n",
    "# Change the Vehicle_ID to 0\n",
    "traj0['Vehicle_ID'] = 0\n",
    "# Add the first Vehicle_ID to the test_df\n",
    "# test_df = pd.concat([test_df, ngsim_df[ngsim_df['Vehicle_ID'] == ngsim_df['Vehicle_ID'].iloc[0]]])\n",
    "# Add traj0 to the test_df\n",
    "test_df = pd.concat([test_df, traj0])\n",
    "# Write the test_df to a CSV file, keeping only the columns we need\n",
    "test_df_clean = test_df[['Vehicle_ID', 'Global_Time', 'Local_X', 'Local_Y']]\n",
    "test_df_clean.to_csv('ngsim_test.csv', index=False)\n",
    "\n",
    "        "
   ]
  },
  {
   "cell_type": "code",
   "execution_count": null,
   "metadata": {},
   "outputs": [],
   "source": []
  }
 ],
 "metadata": {
  "kernelspec": {
   "display_name": "traffic",
   "language": "python",
   "name": "python3"
  },
  "language_info": {
   "codemirror_mode": {
    "name": "ipython",
    "version": 3
   },
   "file_extension": ".py",
   "mimetype": "text/x-python",
   "name": "python",
   "nbconvert_exporter": "python",
   "pygments_lexer": "ipython3",
   "version": "3.10.13"
  }
 },
 "nbformat": 4,
 "nbformat_minor": 2
}

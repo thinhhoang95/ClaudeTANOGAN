{
 "cells": [
  {
   "cell_type": "markdown",
   "metadata": {},
   "source": [
    "Example 3: Full Pipeline Prediction\n",
    "\n",
    "Input: A sequence of 10 windows of time series data\n",
    "Process:\n",
    "\n",
    "Each window is encoded by the VAE into the latent space\n",
    "The sequence of 9 embeddings is fed into the LSTM\n",
    "The LSTM predicts the 10th embedding\n",
    "The predicted embedding is decoded by the VAE\n",
    "\n",
    "\n",
    "Output: Predicted 10th window of the time series\n",
    "\n",
    "\n",
    "Visualization:\n",
    "The code includes visualization of the results:"
   ]
  },
  {
   "cell_type": "code",
   "execution_count": 1,
   "metadata": {},
   "outputs": [],
   "source": [
    "%load_ext autoreload\n",
    "%autoreload 2"
   ]
  },
  {
   "cell_type": "code",
   "execution_count": 2,
   "metadata": {},
   "outputs": [],
   "source": []
  },
  {
   "cell_type": "code",
   "execution_count": 42,
   "metadata": {},
   "outputs": [],
   "source": [
    "import os\n",
    "import argparse\n",
    "import json\n",
    "import torch\n",
    "from torch.utils.data import DataLoader, TensorDataset\n",
    "import numpy as np\n",
    "import matplotlib.pyplot as plt\n",
    "\n",
    "from arch_skip import VAE_LSTM_Model\n",
    "\n",
    "def create_dirs(dirs):\n",
    "    for dir_path in dirs:\n",
    "        if not os.path.exists(dir_path):\n",
    "            os.makedirs(dir_path)\n",
    "\n"
   ]
  },
  {
   "cell_type": "code",
   "execution_count": 4,
   "metadata": {},
   "outputs": [],
   "source": [
    "class DataGenerator:\n",
    "    def __init__(self):\n",
    "        global train_configurations\n",
    "        config = train_configurations\n",
    "        self.config = config\n",
    "        # Here you would load and preprocess your data\n",
    "        # VAE\n",
    "        self.train_data = torch.randn(1000, config['n_channel'], config['l_win'])\n",
    "        self.val_data = torch.randn(200, config['n_channel'], config['l_win'])\n",
    "        # LSTM\n",
    "        self.train_set_lstm = {'data': torch.randn(100, config['l_seq'], config['l_win'], config['n_channel'])}\n",
    "        self.val_set_lstm = {'data': torch.randn(20, config['l_seq'], config['l_win'], config['n_channel'])}\n",
    "        # Set the number of training and validation samples\n",
    "        self.n_train_lstm = self.train_set_lstm['data'].shape[0]\n",
    "        self.n_val_lstm = self.val_set_lstm['data'].shape[0]\n",
    "\n",
    "    def get_train_data(self):\n",
    "        return DataLoader(TensorDataset(self.train_data), batch_size=self.config['batch_size'], shuffle=True)\n",
    "\n",
    "    def get_val_data(self):\n",
    "        return DataLoader(TensorDataset(self.val_data), batch_size=self.config['batch_size'], shuffle=False)"
   ]
  },
  {
   "cell_type": "code",
   "execution_count": 5,
   "metadata": {},
   "outputs": [],
   "source": [
    "def visualize_prediction(model, sequence, config, index):\n",
    "    with torch.no_grad():\n",
    "        # Encode sequence\n",
    "        encoded_sequence = model.generate_embeddings(sequence.unsqueeze(0))\n",
    "        \n",
    "        # Predict next embedding\n",
    "        predicted_embedding = model.lstm(torch.from_numpy(encoded_sequence[:, :-1]).float().to(model.device))\n",
    "        \n",
    "        # Decode original and predicted sequence\n",
    "        original_decoded = model.vae.decode(torch.from_numpy(encoded_sequence).float().to(model.device))\n",
    "        predicted_decoded = model.vae.decode(predicted_embedding[:, -1])\n",
    "\n",
    "    # Plot results\n",
    "    fig, axs = plt.subplots(config['n_channel'], 1, figsize=(15, 5*config['n_channel']))\n",
    "    if config['n_channel'] == 1:\n",
    "        axs = [axs]\n",
    "    \n",
    "    for ch in range(config['n_channel']):\n",
    "        axs[ch].plot(sequence[:, :, ch].flatten().numpy(), label='Original')\n",
    "        axs[ch].plot(original_decoded[:, :, ch].cpu().flatten().numpy(), label='VAE Reconstruction')\n",
    "        axs[ch].plot(np.arange(config['l_win']*(config['l_seq']-1), config['l_win']*config['l_seq']),\n",
    "                     predicted_decoded[0, :, ch].cpu().numpy(), label='LSTM Prediction')\n",
    "        axs[ch].set_title(f'Channel {ch+1}')\n",
    "        axs[ch].legend()\n",
    "\n",
    "    plt.tight_layout()\n",
    "    plt.savefig(os.path.join(config['result_dir'], f'prediction_{index}.png'))\n",
    "    plt.close()"
   ]
  },
  {
   "cell_type": "code",
   "execution_count": 43,
   "metadata": {},
   "outputs": [],
   "source": [
    "def main():\n",
    "    global train_configurations\n",
    "    config = train_configurations    \n",
    "\n",
    "    # Create the experiments dirs\n",
    "    create_dirs([config['result_dir'], config['checkpoint_dir'], config['checkpoint_dir_lstm']])\n",
    "\n",
    "    # Set device\n",
    "    device = torch.device(\"cuda\" if torch.cuda.is_available() else \"cpu\")\n",
    "\n",
    "    # Create your data generator\n",
    "    data = DataGenerator()\n",
    "\n",
    "    # Create VAE-LSTM model\n",
    "    model = VAE_LSTM_Model(config)\n",
    "\n",
    "    # Train VAE\n",
    "    if config['TRAIN_VAE']:\n",
    "        print('Train VAE Process...')\n",
    "        train_loader = data.get_train_data()\n",
    "        val_loader = data.get_val_data()\n",
    "        \n",
    "        for epoch in range(config['num_epochs_vae']):\n",
    "            model.vae.train()\n",
    "            for batch in train_loader:\n",
    "                x = batch[0].to(device)\n",
    "                # The shape of x is: \n",
    "                print(f'x shape: {x.shape}')\n",
    "                loss = model.train_vae(x)\n",
    "            \n",
    "            # Validation\n",
    "            model.vae.eval()\n",
    "            val_loss = 0\n",
    "            with torch.no_grad():\n",
    "                for batch in val_loader:\n",
    "                    x = batch[0].to(device)\n",
    "                    recon_x, mu, log_var = model.vae(x)\n",
    "                    val_loss += model.vae_loss(recon_x, x, mu, log_var).item()\n",
    "            val_loss /= len(val_loader)\n",
    "            \n",
    "            print(f'VAE Epoch: {epoch}, Train Loss: {loss:.4f}, Val Loss: {val_loss:.4f}')\n",
    "\n",
    "        # Save VAE model\n",
    "        torch.save(model.vae.state_dict(), os.path.join(config['checkpoint_dir'], 'vae_model.pth'))\n",
    "\n",
    "    # Train LSTM\n",
    "    if config['TRAIN_LSTM']:\n",
    "        print('Train LSTM Process...')\n",
    "        # Generate embeddings\n",
    "        train_embeddings = model.generate_embeddings(data.train_set_lstm['data'])\n",
    "        val_embeddings = model.generate_embeddings(data.val_set_lstm['data'])\n",
    "\n",
    "        # Prepare LSTM data\n",
    "        x_train = train_embeddings[:, :-1]\n",
    "        y_train = train_embeddings[:, 1:]\n",
    "        x_val = val_embeddings[:, :-1]\n",
    "        y_val = val_embeddings[:, 1:]\n",
    "\n",
    "        train_loader = DataLoader(TensorDataset(torch.from_numpy(x_train), torch.from_numpy(y_train)),\n",
    "                                  batch_size=config['batch_size_lstm'], shuffle=True)\n",
    "        val_loader = DataLoader(TensorDataset(torch.from_numpy(x_val), torch.from_numpy(y_val)),\n",
    "                                batch_size=config['batch_size_lstm'], shuffle=False)\n",
    "\n",
    "        for epoch in range(config['num_epochs_lstm']):\n",
    "            model.lstm.train()\n",
    "            for batch_x, batch_y in train_loader:\n",
    "                batch_x, batch_y = batch_x.to(device), batch_y.to(device)\n",
    "                loss = model.train_lstm_step(batch_x, batch_y)\n",
    "\n",
    "            # Validation\n",
    "            model.lstm.eval()\n",
    "            val_loss = 0\n",
    "            with torch.no_grad():\n",
    "                for batch_x, batch_y in val_loader:\n",
    "                    batch_x, batch_y = batch_x.to(device), batch_y.to(device)\n",
    "                    output = model.lstm(batch_x)\n",
    "                    val_loss += F.mse_loss(output, batch_y).item()\n",
    "            val_loss /= len(val_loader)\n",
    "\n",
    "            print(f'LSTM Epoch: {epoch}, Train Loss: {loss:.4f}, Val Loss: {val_loss:.4f}')\n",
    "\n",
    "        # Save LSTM model\n",
    "        torch.save(model.lstm.state_dict(), os.path.join(config['checkpoint_dir_lstm'], 'lstm_model.pth'))\n",
    "\n",
    "    # Visualize results\n",
    "    #for i in range(10):\n",
    "    #    visualize_prediction(model, data.val_set_lstm['data'][i], config, i)"
   ]
  },
  {
   "cell_type": "code",
   "execution_count": 44,
   "metadata": {},
   "outputs": [
    {
     "ename": "KeyError",
     "evalue": "'result_dir'",
     "output_type": "error",
     "traceback": [
      "\u001b[0;31m---------------------------------------------------------------------------\u001b[0m",
      "\u001b[0;31mKeyError\u001b[0m                                  Traceback (most recent call last)",
      "Cell \u001b[0;32mIn[44], line 2\u001b[0m\n\u001b[1;32m      1\u001b[0m \u001b[38;5;28;01mif\u001b[39;00m \u001b[38;5;18m__name__\u001b[39m \u001b[38;5;241m==\u001b[39m \u001b[38;5;124m'\u001b[39m\u001b[38;5;124m__main__\u001b[39m\u001b[38;5;124m'\u001b[39m:\n\u001b[0;32m----> 2\u001b[0m     \u001b[43mmain\u001b[49m\u001b[43m(\u001b[49m\u001b[43m)\u001b[49m\n",
      "Cell \u001b[0;32mIn[43], line 6\u001b[0m, in \u001b[0;36mmain\u001b[0;34m()\u001b[0m\n\u001b[1;32m      3\u001b[0m config \u001b[38;5;241m=\u001b[39m train_configurations    \n\u001b[1;32m      5\u001b[0m \u001b[38;5;66;03m# Create the experiments dirs\u001b[39;00m\n\u001b[0;32m----> 6\u001b[0m create_dirs([\u001b[43mconfig\u001b[49m\u001b[43m[\u001b[49m\u001b[38;5;124;43m'\u001b[39;49m\u001b[38;5;124;43mresult_dir\u001b[39;49m\u001b[38;5;124;43m'\u001b[39;49m\u001b[43m]\u001b[49m, config[\u001b[38;5;124m'\u001b[39m\u001b[38;5;124mcheckpoint_dir\u001b[39m\u001b[38;5;124m'\u001b[39m], config[\u001b[38;5;124m'\u001b[39m\u001b[38;5;124mcheckpoint_dir_lstm\u001b[39m\u001b[38;5;124m'\u001b[39m]])\n\u001b[1;32m      8\u001b[0m \u001b[38;5;66;03m# Set device\u001b[39;00m\n\u001b[1;32m      9\u001b[0m device \u001b[38;5;241m=\u001b[39m torch\u001b[38;5;241m.\u001b[39mdevice(\u001b[38;5;124m\"\u001b[39m\u001b[38;5;124mcuda\u001b[39m\u001b[38;5;124m\"\u001b[39m \u001b[38;5;28;01mif\u001b[39;00m torch\u001b[38;5;241m.\u001b[39mcuda\u001b[38;5;241m.\u001b[39mis_available() \u001b[38;5;28;01melse\u001b[39;00m \u001b[38;5;124m\"\u001b[39m\u001b[38;5;124mcpu\u001b[39m\u001b[38;5;124m\"\u001b[39m)\n",
      "\u001b[0;31mKeyError\u001b[0m: 'result_dir'"
     ]
    }
   ],
   "source": [
    "if __name__ == '__main__':\n",
    "    main()"
   ]
  },
  {
   "cell_type": "code",
   "execution_count": null,
   "metadata": {},
   "outputs": [],
   "source": []
  },
  {
   "cell_type": "code",
   "execution_count": null,
   "metadata": {},
   "outputs": [],
   "source": []
  },
  {
   "cell_type": "code",
   "execution_count": null,
   "metadata": {},
   "outputs": [],
   "source": []
  },
  {
   "cell_type": "code",
   "execution_count": null,
   "metadata": {},
   "outputs": [],
   "source": []
  },
  {
   "cell_type": "code",
   "execution_count": null,
   "metadata": {},
   "outputs": [],
   "source": []
  },
  {
   "cell_type": "code",
   "execution_count": 1,
   "metadata": {},
   "outputs": [
    {
     "name": "stdout",
     "output_type": "stream",
     "text": [
      "----------------------------------------------------------------\n",
      "        Layer (type)               Output Shape         Param #\n",
      "================================================================\n",
      "            Conv1d-1               [-1, 32, 16]             160\n",
      "            Conv1d-2                [-1, 64, 8]           6,208\n",
      "            Conv1d-3                [-1, 64, 8]           2,112\n",
      "            Conv1d-4               [-1, 128, 4]          24,704\n",
      "            Conv1d-5               [-1, 128, 4]           8,320\n",
      "            Conv1d-6               [-1, 256, 2]          98,560\n",
      "            Conv1d-7               [-1, 256, 2]          33,024\n",
      "            Conv1d-8               [-1, 512, 1]         393,728\n",
      "            Conv1d-9               [-1, 512, 1]         131,584\n",
      "           Linear-10                    [-1, 6]           3,078\n",
      "           Linear-11                    [-1, 6]           3,078\n",
      "           Linear-12                  [-1, 512]           3,584\n",
      "  ConvTranspose1d-13               [-1, 256, 2]         524,544\n",
      "  ConvTranspose1d-14               [-1, 128, 4]         131,200\n",
      "  ConvTranspose1d-15               [-1, 128, 4]          32,896\n",
      "  ConvTranspose1d-16                [-1, 64, 8]          32,832\n",
      "  ConvTranspose1d-17                [-1, 64, 8]           8,256\n",
      "  ConvTranspose1d-18               [-1, 32, 16]           8,224\n",
      "  ConvTranspose1d-19               [-1, 32, 16]           2,080\n",
      "  ConvTranspose1d-20                [-1, 1, 32]             129\n",
      "================================================================\n",
      "Total params: 1,448,301\n",
      "Trainable params: 1,448,301\n",
      "Non-trainable params: 0\n",
      "----------------------------------------------------------------\n",
      "Input size (MB): 0.00\n",
      "Forward/backward pass size (MB): 0.07\n",
      "Params size (MB): 5.52\n",
      "Estimated Total Size (MB): 5.59\n",
      "----------------------------------------------------------------\n"
     ]
    }
   ],
   "source": [
    "from arch_skip import VAE_LSTM_Model\n",
    "\n",
    "train_configurations = {\n",
    "    \"window_dim\": 32, # CAUTION: changing this value requires changing the model architecture\n",
    "    \"hidden_dim\": 512,\n",
    "    \"latent_dim\": 6,\n",
    "    \"learning_rate_vae\": 1e-3,\n",
    "}\n",
    "modelx = VAE_LSTM_Model(train_configurations)\n",
    "from torchsummary import summary\n",
    "summary(modelx.vae, (1, 32))"
   ]
  },
  {
   "cell_type": "code",
   "execution_count": null,
   "metadata": {},
   "outputs": [
    {
     "name": "stdout",
     "output_type": "stream",
     "text": [
      "VAE(\n",
      "  (encoder): Sequential(\n",
      "    (0): Conv1d(1, 32, kernel_size=(3,), stride=(2,), padding=(1,))\n",
      "    (1): LeakyReLU(negative_slope=0.01)\n",
      "    (2): Conv1d(32, 64, kernel_size=(3,), stride=(2,), padding=(1,))\n",
      "    (3): LeakyReLU(negative_slope=0.01)\n",
      "    (4): Conv1d(64, 128, kernel_size=(3,), stride=(2,), padding=(1,))\n",
      "    (5): LeakyReLU(negative_slope=0.01)\n",
      "    (6): Conv1d(128, 512, kernel_size=(4,), stride=(1,))\n",
      "    (7): LeakyReLU(negative_slope=0.01)\n",
      "  )\n",
      "  (decoder): Sequential(\n",
      "    (0): ConvTranspose1d(512, 256, kernel_size=(3,), stride=(2,), padding=(1,), output_padding=(1,))\n",
      "    (1): LeakyReLU(negative_slope=0.01)\n",
      "    (2): ConvTranspose1d(256, 128, kernel_size=(3,), stride=(2,), padding=(1,), output_padding=(1,))\n",
      "    (3): LeakyReLU(negative_slope=0.01)\n",
      "    (4): ConvTranspose1d(128, 64, kernel_size=(3,), stride=(2,), padding=(1,), output_padding=(1,))\n",
      "    (5): LeakyReLU(negative_slope=0.01)\n",
      "    (6): ConvTranspose1d(64, 1, kernel_size=(3,), stride=(2,), padding=(1,), output_padding=(1,))\n",
      "  )\n",
      "  (fc_mu): Linear(in_features=512, out_features=6, bias=True)\n",
      "  (fc_log_var): Linear(in_features=512, out_features=6, bias=True)\n",
      ")\n"
     ]
    }
   ],
   "source": [
    "print(modelx.vae)"
   ]
  },
  {
   "cell_type": "markdown",
   "metadata": {},
   "source": []
  }
 ],
 "metadata": {
  "kernelspec": {
   "display_name": "traffic",
   "language": "python",
   "name": "python3"
  },
  "language_info": {
   "codemirror_mode": {
    "name": "ipython",
    "version": 3
   },
   "file_extension": ".py",
   "mimetype": "text/x-python",
   "name": "python",
   "nbconvert_exporter": "python",
   "pygments_lexer": "ipython3",
   "version": "3.12.3"
  }
 },
 "nbformat": 4,
 "nbformat_minor": 2
}

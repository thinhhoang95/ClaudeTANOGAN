{
 "cells": [
  {
   "cell_type": "markdown",
   "metadata": {},
   "source": [
    "# Training of the Embedding LSTM\n",
    "\n",
    "Original paper: https://oxford-man.ox.ac.uk/wp-content/uploads/2020/06/ANOMALY-DETECTION-FOR-TIME-SERIES-USING-VAE-LSTM-HYBRID-MODEL.pdf\n",
    "\n",
    "Reimplemented and tuned by Thinh Hoang (dthoang@artimensium.com)"
   ]
  },
  {
   "cell_type": "code",
   "execution_count": 1,
   "metadata": {},
   "outputs": [],
   "source": [
    "%load_ext autoreload\n",
    "%autoreload 2"
   ]
  },
  {
   "cell_type": "markdown",
   "metadata": {},
   "source": [
    "## Step 1: Producing embeddings from the VAE network"
   ]
  },
  {
   "cell_type": "code",
   "execution_count": 17,
   "metadata": {},
   "outputs": [
    {
     "name": "stdout",
     "output_type": "stream",
     "text": [
      "Dataset loaded. Shape: (23400, 1, 32)\n"
     ]
    }
   ],
   "source": [
    "from ngsim_lstm_dataset import NGSIM_PreEmbeddings_Dataset\n",
    "\n",
    "ngsim_lstm_ds = NGSIM_PreEmbeddings_Dataset(unroll_filepath='../NGSIM_Dataset/unrolled_data.npy',\n",
    "                                   bond_filepath='../NGSIM_Dataset/bond_data.pkl',\n",
    "                                   column=3) # velocity\n",
    "print(f'Dataset loaded. Shape: {ngsim_lstm_ds.unrolled_data.shape}')"
   ]
  },
  {
   "cell_type": "code",
   "execution_count": 30,
   "metadata": {},
   "outputs": [],
   "source": [
    "from arch_skip import VAE_LSTM_Model\n",
    "from config import train_configurations\n",
    "model = VAE_LSTM_Model(train_configurations)\n",
    "model.load_vae_weights(weights_path='../weights.pth')"
   ]
  },
  {
   "cell_type": "code",
   "execution_count": 31,
   "metadata": {},
   "outputs": [],
   "source": [
    "# Produce embeddings using the VAE network\n",
    "embeddings = model.generate_embeddings(ngsim_lstm_ds)"
   ]
  },
  {
   "cell_type": "code",
   "execution_count": 34,
   "metadata": {},
   "outputs": [
    {
     "name": "stdout",
     "output_type": "stream",
     "text": [
      "Embeddings have been saved to embeddings.npy successfully!\n"
     ]
    }
   ],
   "source": [
    "# Save the embeddings to an npy file\n",
    "import numpy as np\n",
    "np.save('../NGSIM_Dataset/embeddings.npy', embeddings)\n",
    "print(f'Embeddings have been saved to embeddings.npy successfully!')"
   ]
  },
  {
   "cell_type": "code",
   "execution_count": null,
   "metadata": {},
   "outputs": [],
   "source": []
  }
 ],
 "metadata": {
  "kernelspec": {
   "display_name": "vaelstm",
   "language": "python",
   "name": "python3"
  },
  "language_info": {
   "codemirror_mode": {
    "name": "ipython",
    "version": 3
   },
   "file_extension": ".py",
   "mimetype": "text/x-python",
   "name": "python",
   "nbconvert_exporter": "python",
   "pygments_lexer": "ipython3",
   "version": "3.10.14"
  }
 },
 "nbformat": 4,
 "nbformat_minor": 2
}

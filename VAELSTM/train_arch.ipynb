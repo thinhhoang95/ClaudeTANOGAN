{
 "cells": [
  {
   "cell_type": "markdown",
   "metadata": {},
   "source": [
    "Example 3: Full Pipeline Prediction\n",
    "\n",
    "Input: A sequence of 10 windows of time series data\n",
    "Process:\n",
    "\n",
    "Each window is encoded by the VAE into the latent space\n",
    "The sequence of 9 embeddings is fed into the LSTM\n",
    "The LSTM predicts the 10th embedding\n",
    "The predicted embedding is decoded by the VAE\n",
    "\n",
    "\n",
    "Output: Predicted 10th window of the time series\n",
    "\n",
    "\n",
    "Visualization:\n",
    "The code includes visualization of the results:"
   ]
  },
  {
   "cell_type": "code",
   "execution_count": 1,
   "metadata": {},
   "outputs": [],
   "source": [
    "%load_ext autoreload\n",
    "%autoreload 2"
   ]
  },
  {
   "cell_type": "code",
   "execution_count": 2,
   "metadata": {},
   "outputs": [],
   "source": [
    "# add a path to the directory where the modules are located\n",
    "import sys\n",
    "sys.path.append('../')\n",
    "from ngsim_dataset import NGSIMDataset\n",
    "from config import train_configurations"
   ]
  },
  {
   "cell_type": "code",
   "execution_count": 3,
   "metadata": {},
   "outputs": [
    {
     "name": "stdout",
     "output_type": "stream",
     "text": [
      "Select column name: Velocity\n",
      "Shape of dataset: torch.Size([23400, 1, 32])\n"
     ]
    }
   ],
   "source": [
    "# settings for data loader\n",
    "class DataSettings:\n",
    "    def __init__(self):\n",
    "        # location of datasets and category\n",
    "        end_name = 'ngsim_sample.csv' # dataset name\n",
    "        data_file = end_name # dataset category and dataset name\n",
    "        # key = 'realKnownCause/'+end_name # This key is used for reading anomaly labels\n",
    "        # self.BASE = '/Users/thinhhoang/Documents/ClaudeTANOGAN/NGSIM_Dataset' # Macbook Air \n",
    "        self.BASE = '/workspace/ClaudeTANOGAN/NGSIM_Dataset' # Server\n",
    "        # check if self.BASE has the last '/'\n",
    "        if self.BASE[-1] != '/':\n",
    "            self.BASE += '/'\n",
    "        # self.label_file = 'labels\\\\combined_windows.json'\n",
    "        self.data_file = data_file\n",
    "        # self.key = key\n",
    "        self.train = True\n",
    "        self.window_length = 32\n",
    "        self.column_name = 'Velocity'\n",
    "\n",
    "dataset = NGSIMDataset(data_settings = DataSettings())\n",
    "train_loader = dataset.get_train_data(train_configurations)\n",
    "print(f'Shape of dataset: {dataset.x.shape}')"
   ]
  },
  {
   "cell_type": "code",
   "execution_count": 4,
   "metadata": {},
   "outputs": [],
   "source": [
    "from arch_skip import VAE_LSTM_Model\n",
    "model = VAE_LSTM_Model(train_configurations)"
   ]
  },
  {
   "cell_type": "code",
   "execution_count": 5,
   "metadata": {},
   "outputs": [
    {
     "name": "stdout",
     "output_type": "stream",
     "text": [
      "----------------------------------------------------------------\n",
      "        Layer (type)               Output Shape         Param #\n",
      "================================================================\n",
      "            Conv1d-1               [-1, 32, 16]             160\n",
      "            Conv1d-2                [-1, 64, 8]           6,208\n",
      "            Conv1d-3                [-1, 64, 8]           2,112\n",
      "            Conv1d-4               [-1, 128, 4]          24,704\n",
      "            Conv1d-5               [-1, 128, 4]           8,320\n",
      "            Conv1d-6               [-1, 256, 2]          98,560\n",
      "            Conv1d-7               [-1, 256, 2]          33,024\n",
      "            Conv1d-8               [-1, 512, 1]         393,728\n",
      "            Conv1d-9               [-1, 512, 1]         131,584\n",
      "           Linear-10                    [-1, 6]           3,078\n",
      "           Linear-11                    [-1, 6]           3,078\n",
      "           Linear-12                  [-1, 512]           3,584\n",
      "  ConvTranspose1d-13               [-1, 256, 2]         524,544\n",
      "  ConvTranspose1d-14               [-1, 128, 4]         131,200\n",
      "  ConvTranspose1d-15               [-1, 128, 4]          32,896\n",
      "  ConvTranspose1d-16                [-1, 64, 8]          32,832\n",
      "  ConvTranspose1d-17                [-1, 64, 8]           8,256\n",
      "  ConvTranspose1d-18               [-1, 32, 16]           8,224\n",
      "  ConvTranspose1d-19               [-1, 32, 16]           2,080\n",
      "  ConvTranspose1d-20                [-1, 1, 32]             129\n",
      "================================================================\n",
      "Total params: 1,448,301\n",
      "Trainable params: 1,448,301\n",
      "Non-trainable params: 0\n",
      "----------------------------------------------------------------\n",
      "Input size (MB): 0.00\n",
      "Forward/backward pass size (MB): 0.07\n",
      "Params size (MB): 5.52\n",
      "Estimated Total Size (MB): 5.59\n",
      "----------------------------------------------------------------\n"
     ]
    }
   ],
   "source": [
    "# Summarize the model\n",
    "from torchsummary import summary\n",
    "summary(model.vae, (1, 32))"
   ]
  },
  {
   "cell_type": "code",
   "execution_count": 6,
   "metadata": {},
   "outputs": [
    {
     "name": "stdout",
     "output_type": "stream",
     "text": [
      "Selected device:  cuda\n",
      "---------------------------\n",
      "Training VAE...\n",
      "VAE Epoch: 0, Loss: 12.955942153930664\n",
      "VAE Epoch: 1, Loss: 7.049385070800781\n",
      "VAE Epoch: 2, Loss: 11.56655216217041\n",
      "VAE Epoch: 3, Loss: 10.300603866577148\n",
      "VAE Epoch: 4, Loss: 14.225496292114258\n",
      "VAE Epoch: 5, Loss: 5.359864711761475\n",
      "VAE Epoch: 6, Loss: 11.857398986816406\n",
      "VAE Epoch: 7, Loss: 9.574263572692871\n",
      "VAE Epoch: 8, Loss: 11.868246078491211\n"
     ]
    },
    {
     "name": "stderr",
     "output_type": "stream",
     "text": [
      "\n",
      "KeyboardInterrupt\n",
      "\n"
     ]
    }
   ],
   "source": [
    "# Train VAE\n",
    "\n",
    "import torch \n",
    "import os\n",
    "\n",
    "device = torch.device('cuda' if torch.cuda.is_available() else 'cpu')\n",
    "print('Selected device: ', device)\n",
    "print('---------------------------')\n",
    "print('Training VAE...')\n",
    "# Train the VAE\n",
    "model.train_vae(train_loader)"
   ]
  },
  {
   "cell_type": "code",
   "execution_count": null,
   "metadata": {},
   "outputs": [],
   "source": [
    "for batch in train_loader:\n",
    "    print(batch.shape)\n",
    "    break"
   ]
  },
  {
   "cell_type": "code",
   "execution_count": null,
   "metadata": {},
   "outputs": [],
   "source": []
  }
 ],
 "metadata": {
  "kernelspec": {
   "display_name": "Python 3 (ipykernel)",
   "language": "python",
   "name": "python3"
  },
  "language_info": {
   "codemirror_mode": {
    "name": "ipython",
    "version": 3
   },
   "file_extension": ".py",
   "mimetype": "text/x-python",
   "name": "python",
   "nbconvert_exporter": "python",
   "pygments_lexer": "ipython3",
   "version": "3.10.12"
  }
 },
 "nbformat": 4,
 "nbformat_minor": 4
}

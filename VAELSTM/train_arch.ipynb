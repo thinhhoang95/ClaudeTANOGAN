{
 "cells": [
  {
   "cell_type": "markdown",
   "metadata": {},
   "source": [
    "Example 3: Full Pipeline Prediction\n",
    "\n",
    "Input: A sequence of 10 windows of time series data\n",
    "Process:\n",
    "\n",
    "Each window is encoded by the VAE into the latent space\n",
    "The sequence of 9 embeddings is fed into the LSTM\n",
    "The LSTM predicts the 10th embedding\n",
    "The predicted embedding is decoded by the VAE\n",
    "\n",
    "\n",
    "Output: Predicted 10th window of the time series\n",
    "\n",
    "\n",
    "Visualization:\n",
    "The code includes visualization of the results:"
   ]
  },
  {
   "cell_type": "code",
   "execution_count": null,
   "metadata": {},
   "outputs": [],
   "source": [
    "%load_ext autoreload\n",
    "%autoreload 2"
   ]
  },
  {
   "cell_type": "code",
   "execution_count": null,
   "metadata": {},
   "outputs": [],
   "source": [
    "from RandomData import DataGenerator\n",
    "from config import train_configurations\n",
    "data = DataGenerator(train_configurations)\n",
    "train_loader = data.get_train_data()"
   ]
  },
  {
   "cell_type": "code",
   "execution_count": null,
   "metadata": {},
   "outputs": [],
   "source": [
    "from arch_skip import VAE_LSTM_Model\n",
    "model = VAE_LSTM_Model(train_configurations)"
   ]
  },
  {
   "cell_type": "code",
   "execution_count": null,
   "metadata": {},
   "outputs": [],
   "source": [
    "# Train VAE\n",
    "\n",
    "import torch \n",
    "import os\n",
    "\n",
    "device = torch.device('cuda' if torch.cuda.is_available() else 'cpu')\n",
    "print('Train VAE Process...')\n",
    "\n",
    "# Train the VAE\n",
    "model.train_vae(train_loader)"
   ]
  },
  {
   "cell_type": "code",
   "execution_count": null,
   "metadata": {},
   "outputs": [],
   "source": [
    "for data in train_loader:\n",
    "    print(data[0].shape)\n",
    "    break"
   ]
  },
  {
   "cell_type": "markdown",
   "metadata": {},
   "source": []
  }
 ],
 "metadata": {
  "kernelspec": {
   "display_name": "traffic",
   "language": "python",
   "name": "python3"
  },
  "language_info": {
   "codemirror_mode": {
    "name": "ipython",
    "version": 3
   },
   "file_extension": ".py",
   "mimetype": "text/x-python",
   "name": "python",
   "nbconvert_exporter": "python",
   "pygments_lexer": "ipython3",
   "version": "3.12.3"
  }
 },
 "nbformat": 4,
 "nbformat_minor": 2
}

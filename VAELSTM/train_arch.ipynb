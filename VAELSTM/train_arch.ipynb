{
 "cells": [
  {
   "cell_type": "markdown",
   "metadata": {},
   "source": [
    "Example 3: Full Pipeline Prediction\n",
    "\n",
    "Input: A sequence of 10 windows of time series data\n",
    "Process:\n",
    "\n",
    "Each window is encoded by the VAE into the latent space\n",
    "The sequence of 9 embeddings is fed into the LSTM\n",
    "The LSTM predicts the 10th embedding\n",
    "The predicted embedding is decoded by the VAE\n",
    "\n",
    "\n",
    "Output: Predicted 10th window of the time series\n",
    "\n",
    "\n",
    "Visualization:\n",
    "The code includes visualization of the results:"
   ]
  },
  {
   "cell_type": "code",
   "execution_count": null,
   "metadata": {},
   "outputs": [],
   "source": [
    "%load_ext autoreload\n",
    "%autoreload 2"
   ]
  },
  {
   "cell_type": "code",
   "execution_count": null,
   "metadata": {},
   "outputs": [],
   "source": [
    "# add a path to the directory where the modules are located\n",
    "import sys\n",
    "sys.path.append('../')\n",
    "from ngsim_dataset import NGSIMDataset\n",
    "from config import train_configurations"
   ]
  },
  {
   "cell_type": "code",
   "execution_count": null,
   "metadata": {},
   "outputs": [],
   "source": [
    "# settings for data loader\n",
    "class DataSettings:\n",
    "    def __init__(self):\n",
    "        # location of datasets and category\n",
    "        end_name = 'ngsim_sample.csv' # dataset name\n",
    "        data_file = end_name # dataset category and dataset name\n",
    "        # key = 'realKnownCause/'+end_name # This key is used for reading anomaly labels\n",
    "        self.BASE = '/Users/thinhhoang/Documents/ClaudeTANOGAN/NGSIM_Dataset' # Macbook Air \n",
    "        # self.BASE = '/workspace/ClaudeTANOGAN/NGSIM_Dataset' # Server\n",
    "        # check if self.BASE has the last '/'\n",
    "        if self.BASE[-1] != '/':\n",
    "            self.BASE += '/'\n",
    "        # self.label_file = 'labels\\\\combined_windows.json'\n",
    "        self.data_file = data_file\n",
    "        # self.key = key\n",
    "        self.train = True\n",
    "        self.window_length = 32\n",
    "        self.column_name = 'Velocity'\n",
    "\n",
    "dataset = NGSIMDataset(data_settings = DataSettings())\n",
    "train_loader = dataset.get_train_data(train_configurations)\n",
    "print(f'Shape of dataset: {dataset.x.shape}')"
   ]
  },
  {
   "cell_type": "code",
   "execution_count": null,
   "metadata": {},
   "outputs": [],
   "source": [
    "from arch_skip import VAE_LSTM_Model\n",
    "model = VAE_LSTM_Model(train_configurations)"
   ]
  },
  {
   "cell_type": "code",
   "execution_count": null,
   "metadata": {},
   "outputs": [],
   "source": [
    "# Remove everything inside the tbo folder\n",
    "!rm -r tbo/*"
   ]
  },
  {
   "cell_type": "code",
   "execution_count": null,
   "metadata": {},
   "outputs": [],
   "source": [
    "# Train VAE\n",
    "\n",
    "import torch \n",
    "import os\n",
    "\n",
    "import torch\n",
    "if torch.backends.mps.is_available():\n",
    "    mps_device = torch.device(\"mps\")\n",
    "    x = torch.ones(1, device=mps_device)\n",
    "    print (x)\n",
    "else:\n",
    "    print (\"MPS device not found.\")\n"
   ]
  },
  {
   "cell_type": "code",
   "execution_count": null,
   "metadata": {},
   "outputs": [],
   "source": [
    "# Train VAE\n",
    "\n",
    "import torch \n",
    "import os\n",
    "\n",
    "print('---------------------------')\n",
    "print('Training VAE...')\n",
    "# Train the VAE\n",
    "model.train_vae(train_loader)"
   ]
  },
  {
   "cell_type": "code",
   "execution_count": null,
   "metadata": {},
   "outputs": [],
   "source": [
    "for data in train_loader:\n",
    "    print(data.shape)\n",
    "    break"
   ]
  },
  {
   "cell_type": "markdown",
   "metadata": {},
   "source": []
  }
 ],
 "metadata": {
  "kernelspec": {
   "display_name": "traffic",
   "language": "python",
   "name": "python3"
  },
  "language_info": {
   "codemirror_mode": {
    "name": "ipython",
    "version": 3
   },
   "file_extension": ".py",
   "mimetype": "text/x-python",
   "name": "python",
   "nbconvert_exporter": "python",
   "pygments_lexer": "ipython3",
   "version": "3.10.14"
  }
 },
 "nbformat": 4,
 "nbformat_minor": 2
}

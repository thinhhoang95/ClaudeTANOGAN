{
 "cells": [
  {
   "cell_type": "markdown",
   "metadata": {},
   "source": [
    "# Evaluation of VAE LSTM Network in Anomaly Detection\n",
    "\n",
    "Code by Thinh Hoang (dthoang@artimensium.com) from the original paper"
   ]
  },
  {
   "cell_type": "code",
   "execution_count": 1,
   "metadata": {},
   "outputs": [],
   "source": [
    "%load_ext autoreload\n",
    "%autoreload 2"
   ]
  },
  {
   "cell_type": "code",
   "execution_count": 2,
   "metadata": {},
   "outputs": [],
   "source": [
    "from arch_skip import VAE_LSTM_Model\n",
    "from config import train_configurations\n",
    "model = VAE_LSTM_Model(train_configurations)"
   ]
  },
  {
   "cell_type": "code",
   "execution_count": 3,
   "metadata": {},
   "outputs": [],
   "source": [
    "# Load the weights of the VAE\n",
    "model.load_vae_weights('../vae_weights.pth')"
   ]
  },
  {
   "cell_type": "code",
   "execution_count": 4,
   "metadata": {},
   "outputs": [],
   "source": [
    "# Load the weights of the LSTM\n",
    "model.load_lstm_weights('../lstm_weights.pth')"
   ]
  },
  {
   "cell_type": "markdown",
   "metadata": {},
   "source": [
    "# Let's Test. Hopefully it will work, otherwise my paper is delayed again :("
   ]
  },
  {
   "cell_type": "code",
   "execution_count": 5,
   "metadata": {},
   "outputs": [
    {
     "name": "stdout",
     "output_type": "stream",
     "text": [
      "Dataset loaded. Shape: (23400, 1, 32)\n"
     ]
    }
   ],
   "source": [
    "# Append NGSIM folder to the search path\n",
    "from ngsim_lstm_dataset import NGSIM_PreEmbeddings_Dataset\n",
    "\n",
    "ngsim_pee_ds = NGSIM_PreEmbeddings_Dataset(unroll_filepath='../NGSIM_Dataset/unrolled_data.npy',\n",
    "                                   bond_filepath='../NGSIM_Dataset/bond_data.pkl',\n",
    "                                   column=3) # velocity\n",
    "print(f'Dataset loaded. Shape: {ngsim_pee_ds.unrolled_data.shape}')"
   ]
  },
  {
   "cell_type": "code",
   "execution_count": 28,
   "metadata": {},
   "outputs": [
    {
     "name": "stdout",
     "output_type": "stream",
     "text": [
      "Expected velocity:  39.5653125\n",
      "Expected velocity:  38.60624999999999\n"
     ]
    },
    {
     "data": {
      "text/plain": [
       "[<matplotlib.lines.Line2D at 0x2bf06438950>]"
      ]
     },
     "execution_count": 28,
     "metadata": {},
     "output_type": "execute_result"
    },
    {
     "data": {
      "image/png": "[encoded data removed]",
      "text/plain": [
       "<Figure size 400x200 with 1 Axes>"
      ]
     },
     "metadata": {},
     "output_type": "display_data"
    }
   ],
   "source": [
    "# Let's plot the first sequence\n",
    "import matplotlib.pyplot as plt\n",
    "import numpy as np\n",
    "\n",
    "seq1 = ngsim_pee_ds.unrolled_data[0]\n",
    "print('Expected velocity: ', np.mean(seq1.flatten()))\n",
    "seq2 = ngsim_pee_ds.unrolled_data[31]\n",
    "print('Expected velocity: ', np.mean(seq2.flatten()))\n",
    "plt.figure(figsize=(4,2))\n",
    "plt.plot(seq1.flatten())\n",
    "plt.plot(seq2.flatten())"
   ]
  },
  {
   "cell_type": "code",
   "execution_count": 32,
   "metadata": {},
   "outputs": [],
   "source": [
    "# We can cumsum the first sequence\n",
    "x1 = np.cumsum(seq1.flatten())\n",
    "x2 = np.cumsum(seq2.flatten())"
   ]
  },
  {
   "cell_type": "code",
   "execution_count": 1,
   "metadata": {},
   "outputs": [
    {
     "ename": "NameError",
     "evalue": "name 'model' is not defined",
     "output_type": "error",
     "traceback": [
      "\u001b[1;31m---------------------------------------------------------------------------\u001b[0m",
      "\u001b[1;31mNameError\u001b[0m                                 Traceback (most recent call last)",
      "Cell \u001b[1;32mIn[1], line 2\u001b[0m\n\u001b[0;32m      1\u001b[0m n_samples \u001b[38;5;241m=\u001b[39m \u001b[38;5;241m100\u001b[39m \u001b[38;5;66;03m# number of Monte Carlo samples\u001b[39;00m\n\u001b[1;32m----> 2\u001b[0m seq_pred \u001b[38;5;241m=\u001b[39m \u001b[43mmodel\u001b[49m\u001b[38;5;241m.\u001b[39mpredict_sequence(seq1\u001b[38;5;241m.\u001b[39mreshape(\u001b[38;5;241m1\u001b[39m, \u001b[38;5;241m1\u001b[39m, \u001b[38;5;241m-\u001b[39m\u001b[38;5;241m1\u001b[39m))\n\u001b[0;32m      3\u001b[0m plt\u001b[38;5;241m.\u001b[39mfigure(figsize\u001b[38;5;241m=\u001b[39m(\u001b[38;5;241m4\u001b[39m,\u001b[38;5;241m2\u001b[39m))\n\u001b[0;32m      4\u001b[0m plt\u001b[38;5;241m.\u001b[39mplot(seq_pred\u001b[38;5;241m.\u001b[39mflatten())\n",
      "\u001b[1;31mNameError\u001b[0m: name 'model' is not defined"
     ]
    }
   ],
   "source": [
    "n_samples = 100 # number of Monte Carlo samples\n",
    "seq_pred = model.predict_sequence(seq1.reshape(1, 1, -1))\n",
    "plt.figure(figsize=(4,2))\n",
    "plt.plot(seq_pred.flatten())\n",
    "plt.show()\n",
    "\n",
    "print('Expected velocity:', np.mean(seq_pred))\n",
    "x2p = np.cumsum(seq_pred.flatten())\n",
    "\n",
    "plt.figure(figsize=(4,2))\n",
    "plt.plot(x1)\n",
    "plt.plot(len(x1) + np.arange(len(x2)), x2 + x1[-1])\n",
    "plt.plot(len(x1) + np.arange(len(x2p)), x2p + x1[-1])\n",
    "plt.xlabel('Timestep')\n",
    "plt.ylabel('Longitudinal Position')"
   ]
  },
  {
   "cell_type": "code",
   "execution_count": null,
   "metadata": {},
   "outputs": [],
   "source": []
  }
 ],
 "metadata": {
  "kernelspec": {
   "display_name": "vaelstm",
   "language": "python",
   "name": "python3"
  },
  "language_info": {
   "codemirror_mode": {
    "name": "ipython",
    "version": 3
   },
   "file_extension": ".py",
   "mimetype": "text/x-python",
   "name": "python",
   "nbconvert_exporter": "python",
   "pygments_lexer": "ipython3",
   "version": "3.12.4"
  }
 },
 "nbformat": 4,
 "nbformat_minor": 2
}
